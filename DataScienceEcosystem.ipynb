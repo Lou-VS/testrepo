{
 "cells": [
  {
   "cell_type": "markdown",
   "id": "4b148d23-0188-46a2-975c-e7e033d5cb2f",
   "metadata": {},
   "source": [
    "# Data Science Tools and Ecosystem"
   ]
  },
  {
   "cell_type": "markdown",
   "id": "72a4f0d4-01ef-4c33-8efa-2f275b7fd16e",
   "metadata": {},
   "source": [
    "In this notebook, Data Science Tools and Ecosystem are summarized."
   ]
  },
  {
   "cell_type": "markdown",
   "id": "b133d1c6-60f2-4a8a-9c6e-407d98691e6c",
   "metadata": {},
   "source": [
    "Some of the popular languages that Data Scientists use are:\n",
    "1. Python\n",
    "2. R\n",
    "3. SQL\n",
    "4. Julia\n",
    "5. Scala"
   ]
  },
  {
   "cell_type": "markdown",
   "id": "d6305780-4300-4155-973a-e8ec96bb16fd",
   "metadata": {},
   "source": [
    "Some of the commonly used libraries by Data Scientists include:\n",
    "1. Pandas\n",
    "2. Numpy\n",
    "3. Scipy\n",
    "4. TensorFlow\n",
    "5. PyTorch"
   ]
  },
  {
   "cell_type": "markdown",
   "id": "128b0121-e689-4265-ac05-f40cbc2eeae0",
   "metadata": {},
   "source": [
    "| Data Science Tools |\n",
    "----------------------\n",
    "| VS Code |\n",
    "| Gitlab |\n",
    "| Apache Spark |"
   ]
  },
  {
   "cell_type": "markdown",
   "id": "f46b04c1-96c5-4318-9f36-38e8e255df05",
   "metadata": {},
   "source": [
    "### Below are a few examples of evaluating arithmetic expressions in Python"
   ]
  },
  {
   "cell_type": "code",
   "execution_count": 1,
   "id": "d703aa75-f3e6-470b-835b-1c73f220a39a",
   "metadata": {
    "tags": []
   },
   "outputs": [
    {
     "data": {
      "text/plain": [
       "17"
      ]
     },
     "execution_count": 1,
     "metadata": {},
     "output_type": "execute_result"
    }
   ],
   "source": [
    "# This is a simple arithmetic expression to multiply then add integers\n",
    "(3*4)+5"
   ]
  },
  {
   "cell_type": "code",
   "execution_count": 5,
   "id": "8f8b5e01-4575-4212-a97b-b8a56da6f191",
   "metadata": {
    "tags": []
   },
   "outputs": [
    {
     "name": "stdout",
     "output_type": "stream",
     "text": [
      "200 minutes is 3.33 hours\n"
     ]
    }
   ],
   "source": [
    "# This will convert 200 minutes into hours by dividing by 60\n",
    "minutes = 200\n",
    "hours = minutes/60\n",
    "print(f'{minutes} minutes is {hours:.2f} hours')"
   ]
  },
  {
   "cell_type": "markdown",
   "id": "3ce1d81b-5be3-4428-904f-1678a962b146",
   "metadata": {},
   "source": [
    "**Objectives:**\n",
    "- List popular Data Science languages\n",
    "- List popular Data Science tools\n",
    "- Give examples of simple Python functionality"
   ]
  },
  {
   "cell_type": "markdown",
   "id": "ecd0a363-ebe4-43fc-ad90-2e12401d204e",
   "metadata": {},
   "source": [
    "## Author\n",
    "Lou Van Soom"
   ]
  },
  {
   "cell_type": "code",
   "execution_count": null,
   "id": "a60b0946-389e-4ad9-8247-afe26f017d46",
   "metadata": {},
   "outputs": [],
   "source": []
  }
 ],
 "metadata": {
  "kernelspec": {
   "display_name": "Python",
   "language": "python",
   "name": "conda-env-python-py"
  },
  "language_info": {
   "codemirror_mode": {
    "name": "ipython",
    "version": 3
   },
   "file_extension": ".py",
   "mimetype": "text/x-python",
   "name": "python",
   "nbconvert_exporter": "python",
   "pygments_lexer": "ipython3",
   "version": "3.7.12"
  }
 },
 "nbformat": 4,
 "nbformat_minor": 5
}
